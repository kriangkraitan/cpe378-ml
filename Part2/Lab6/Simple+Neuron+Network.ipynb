{
 "cells": [
  {
   "cell_type": "markdown",
   "metadata": {
    "id": "S8scE3fF4346"
   },
   "source": [
    "# Neuron Network - Lab"
   ]
  },
  {
   "cell_type": "markdown",
   "metadata": {
    "id": "JHXp_P3e4349"
   },
   "source": [
    "### Part 1: Load  data\n",
    "\n",
    "Import \"bank-data.csv\""
   ]
  },
  {
   "cell_type": "code",
   "execution_count": 1,
   "metadata": {
    "colab": {
     "base_uri": "https://localhost:8080/"
    },
    "executionInfo": {
     "elapsed": 27599,
     "status": "ok",
     "timestamp": 1614216840852,
     "user": {
      "displayName": "nampetch rodprasert",
      "photoUrl": "",
      "userId": "15290855941941327898"
     },
     "user_tz": -420
    },
    "id": "PCm-oPW_0bQN",
    "outputId": "d460a5d5-b6b8-4f00-de8a-43a272e0228b"
   },
   "outputs": [
    {
     "name": "stdout",
     "output_type": "stream",
     "text": [
      "Mounted at /content/gdrive\n"
     ]
    }
   ],
   "source": [
    "from google.colab import drive\n",
    "drive.mount('/content/gdrive')"
   ]
  },
  {
   "cell_type": "code",
   "execution_count": 1,
   "metadata": {
    "executionInfo": {
     "elapsed": 928,
     "status": "ok",
     "timestamp": 1614216909608,
     "user": {
      "displayName": "nampetch rodprasert",
      "photoUrl": "",
      "userId": "15290855941941327898"
     },
     "user_tz": -420
    },
    "id": "ofsD_P06434-"
   },
   "outputs": [
    {
     "data": {
      "text/html": [
       "<div>\n",
       "<style scoped>\n",
       "    .dataframe tbody tr th:only-of-type {\n",
       "        vertical-align: middle;\n",
       "    }\n",
       "\n",
       "    .dataframe tbody tr th {\n",
       "        vertical-align: top;\n",
       "    }\n",
       "\n",
       "    .dataframe thead th {\n",
       "        text-align: right;\n",
       "    }\n",
       "</style>\n",
       "<table border=\"1\" class=\"dataframe\">\n",
       "  <thead>\n",
       "    <tr style=\"text-align: right;\">\n",
       "      <th></th>\n",
       "      <th>age</th>\n",
       "      <th>job</th>\n",
       "      <th>marital</th>\n",
       "      <th>education</th>\n",
       "      <th>default</th>\n",
       "      <th>balance</th>\n",
       "      <th>housing</th>\n",
       "      <th>loan</th>\n",
       "      <th>contact</th>\n",
       "      <th>day</th>\n",
       "      <th>month</th>\n",
       "      <th>duration</th>\n",
       "      <th>campaign</th>\n",
       "      <th>pdays</th>\n",
       "      <th>previous</th>\n",
       "      <th>poutcome</th>\n",
       "      <th>y</th>\n",
       "    </tr>\n",
       "  </thead>\n",
       "  <tbody>\n",
       "    <tr>\n",
       "      <th>0</th>\n",
       "      <td>30</td>\n",
       "      <td>unemployed</td>\n",
       "      <td>married</td>\n",
       "      <td>primary</td>\n",
       "      <td>no</td>\n",
       "      <td>1787</td>\n",
       "      <td>no</td>\n",
       "      <td>no</td>\n",
       "      <td>cellular</td>\n",
       "      <td>19</td>\n",
       "      <td>oct</td>\n",
       "      <td>79</td>\n",
       "      <td>1</td>\n",
       "      <td>-1</td>\n",
       "      <td>0</td>\n",
       "      <td>unknown</td>\n",
       "      <td>no</td>\n",
       "    </tr>\n",
       "    <tr>\n",
       "      <th>1</th>\n",
       "      <td>33</td>\n",
       "      <td>services</td>\n",
       "      <td>married</td>\n",
       "      <td>secondary</td>\n",
       "      <td>no</td>\n",
       "      <td>4789</td>\n",
       "      <td>yes</td>\n",
       "      <td>yes</td>\n",
       "      <td>cellular</td>\n",
       "      <td>11</td>\n",
       "      <td>may</td>\n",
       "      <td>220</td>\n",
       "      <td>1</td>\n",
       "      <td>339</td>\n",
       "      <td>4</td>\n",
       "      <td>failure</td>\n",
       "      <td>no</td>\n",
       "    </tr>\n",
       "    <tr>\n",
       "      <th>2</th>\n",
       "      <td>35</td>\n",
       "      <td>management</td>\n",
       "      <td>single</td>\n",
       "      <td>tertiary</td>\n",
       "      <td>no</td>\n",
       "      <td>1350</td>\n",
       "      <td>yes</td>\n",
       "      <td>no</td>\n",
       "      <td>cellular</td>\n",
       "      <td>16</td>\n",
       "      <td>apr</td>\n",
       "      <td>185</td>\n",
       "      <td>1</td>\n",
       "      <td>330</td>\n",
       "      <td>1</td>\n",
       "      <td>failure</td>\n",
       "      <td>no</td>\n",
       "    </tr>\n",
       "    <tr>\n",
       "      <th>3</th>\n",
       "      <td>30</td>\n",
       "      <td>management</td>\n",
       "      <td>married</td>\n",
       "      <td>tertiary</td>\n",
       "      <td>no</td>\n",
       "      <td>1476</td>\n",
       "      <td>yes</td>\n",
       "      <td>yes</td>\n",
       "      <td>unknown</td>\n",
       "      <td>3</td>\n",
       "      <td>jun</td>\n",
       "      <td>199</td>\n",
       "      <td>4</td>\n",
       "      <td>-1</td>\n",
       "      <td>0</td>\n",
       "      <td>unknown</td>\n",
       "      <td>no</td>\n",
       "    </tr>\n",
       "    <tr>\n",
       "      <th>4</th>\n",
       "      <td>59</td>\n",
       "      <td>blue-collar</td>\n",
       "      <td>married</td>\n",
       "      <td>secondary</td>\n",
       "      <td>no</td>\n",
       "      <td>0</td>\n",
       "      <td>yes</td>\n",
       "      <td>no</td>\n",
       "      <td>unknown</td>\n",
       "      <td>5</td>\n",
       "      <td>may</td>\n",
       "      <td>226</td>\n",
       "      <td>1</td>\n",
       "      <td>-1</td>\n",
       "      <td>0</td>\n",
       "      <td>unknown</td>\n",
       "      <td>no</td>\n",
       "    </tr>\n",
       "  </tbody>\n",
       "</table>\n",
       "</div>"
      ],
      "text/plain": [
       "   age          job  marital  education default  balance housing loan  \\\n",
       "0   30   unemployed  married    primary      no     1787      no   no   \n",
       "1   33     services  married  secondary      no     4789     yes  yes   \n",
       "2   35   management   single   tertiary      no     1350     yes   no   \n",
       "3   30   management  married   tertiary      no     1476     yes  yes   \n",
       "4   59  blue-collar  married  secondary      no        0     yes   no   \n",
       "\n",
       "    contact  day month  duration  campaign  pdays  previous poutcome   y  \n",
       "0  cellular   19   oct        79         1     -1         0  unknown  no  \n",
       "1  cellular   11   may       220         1    339         4  failure  no  \n",
       "2  cellular   16   apr       185         1    330         1  failure  no  \n",
       "3   unknown    3   jun       199         4     -1         0  unknown  no  \n",
       "4   unknown    5   may       226         1     -1         0  unknown  no  "
      ]
     },
     "execution_count": 1,
     "metadata": {},
     "output_type": "execute_result"
    }
   ],
   "source": [
    "import pandas as pd\n",
    "bankData = pd.read_csv('bank-data.csv', sep = ';')\n",
    "bankData.head()"
   ]
  },
  {
   "cell_type": "markdown",
   "metadata": {
    "id": "Ks9DOnMn434_"
   },
   "source": [
    "### Part 2: Preprocess data\n",
    "\n",
    "Preprocess the dataset as you have done before"
   ]
  },
  {
   "cell_type": "markdown",
   "metadata": {
    "id": "vhvUULRm435A"
   },
   "source": [
    "#### 2.1 Binary encoding\n",
    "\n",
    "Use LabelEncoder to encode the following columns:\n",
    "- y\n",
    "- default\n",
    "- housing\n",
    "- loan"
   ]
  },
  {
   "cell_type": "code",
   "execution_count": 2,
   "metadata": {
    "id": "Kji7ZjdN435A"
   },
   "outputs": [
    {
     "data": {
      "text/html": [
       "<div>\n",
       "<style scoped>\n",
       "    .dataframe tbody tr th:only-of-type {\n",
       "        vertical-align: middle;\n",
       "    }\n",
       "\n",
       "    .dataframe tbody tr th {\n",
       "        vertical-align: top;\n",
       "    }\n",
       "\n",
       "    .dataframe thead th {\n",
       "        text-align: right;\n",
       "    }\n",
       "</style>\n",
       "<table border=\"1\" class=\"dataframe\">\n",
       "  <thead>\n",
       "    <tr style=\"text-align: right;\">\n",
       "      <th></th>\n",
       "      <th>age</th>\n",
       "      <th>job</th>\n",
       "      <th>marital</th>\n",
       "      <th>education</th>\n",
       "      <th>default</th>\n",
       "      <th>balance</th>\n",
       "      <th>housing</th>\n",
       "      <th>loan</th>\n",
       "      <th>contact</th>\n",
       "      <th>day</th>\n",
       "      <th>month</th>\n",
       "      <th>duration</th>\n",
       "      <th>campaign</th>\n",
       "      <th>pdays</th>\n",
       "      <th>previous</th>\n",
       "      <th>poutcome</th>\n",
       "      <th>y</th>\n",
       "    </tr>\n",
       "  </thead>\n",
       "  <tbody>\n",
       "    <tr>\n",
       "      <th>0</th>\n",
       "      <td>30</td>\n",
       "      <td>unemployed</td>\n",
       "      <td>married</td>\n",
       "      <td>primary</td>\n",
       "      <td>no</td>\n",
       "      <td>1787</td>\n",
       "      <td>no</td>\n",
       "      <td>no</td>\n",
       "      <td>cellular</td>\n",
       "      <td>19</td>\n",
       "      <td>oct</td>\n",
       "      <td>79</td>\n",
       "      <td>1</td>\n",
       "      <td>-1</td>\n",
       "      <td>0</td>\n",
       "      <td>unknown</td>\n",
       "      <td>0</td>\n",
       "    </tr>\n",
       "    <tr>\n",
       "      <th>1</th>\n",
       "      <td>33</td>\n",
       "      <td>services</td>\n",
       "      <td>married</td>\n",
       "      <td>secondary</td>\n",
       "      <td>no</td>\n",
       "      <td>4789</td>\n",
       "      <td>yes</td>\n",
       "      <td>yes</td>\n",
       "      <td>cellular</td>\n",
       "      <td>11</td>\n",
       "      <td>may</td>\n",
       "      <td>220</td>\n",
       "      <td>1</td>\n",
       "      <td>339</td>\n",
       "      <td>4</td>\n",
       "      <td>failure</td>\n",
       "      <td>0</td>\n",
       "    </tr>\n",
       "    <tr>\n",
       "      <th>2</th>\n",
       "      <td>35</td>\n",
       "      <td>management</td>\n",
       "      <td>single</td>\n",
       "      <td>tertiary</td>\n",
       "      <td>no</td>\n",
       "      <td>1350</td>\n",
       "      <td>yes</td>\n",
       "      <td>no</td>\n",
       "      <td>cellular</td>\n",
       "      <td>16</td>\n",
       "      <td>apr</td>\n",
       "      <td>185</td>\n",
       "      <td>1</td>\n",
       "      <td>330</td>\n",
       "      <td>1</td>\n",
       "      <td>failure</td>\n",
       "      <td>0</td>\n",
       "    </tr>\n",
       "    <tr>\n",
       "      <th>3</th>\n",
       "      <td>30</td>\n",
       "      <td>management</td>\n",
       "      <td>married</td>\n",
       "      <td>tertiary</td>\n",
       "      <td>no</td>\n",
       "      <td>1476</td>\n",
       "      <td>yes</td>\n",
       "      <td>yes</td>\n",
       "      <td>unknown</td>\n",
       "      <td>3</td>\n",
       "      <td>jun</td>\n",
       "      <td>199</td>\n",
       "      <td>4</td>\n",
       "      <td>-1</td>\n",
       "      <td>0</td>\n",
       "      <td>unknown</td>\n",
       "      <td>0</td>\n",
       "    </tr>\n",
       "    <tr>\n",
       "      <th>4</th>\n",
       "      <td>59</td>\n",
       "      <td>blue-collar</td>\n",
       "      <td>married</td>\n",
       "      <td>secondary</td>\n",
       "      <td>no</td>\n",
       "      <td>0</td>\n",
       "      <td>yes</td>\n",
       "      <td>no</td>\n",
       "      <td>unknown</td>\n",
       "      <td>5</td>\n",
       "      <td>may</td>\n",
       "      <td>226</td>\n",
       "      <td>1</td>\n",
       "      <td>-1</td>\n",
       "      <td>0</td>\n",
       "      <td>unknown</td>\n",
       "      <td>0</td>\n",
       "    </tr>\n",
       "  </tbody>\n",
       "</table>\n",
       "</div>"
      ],
      "text/plain": [
       "   age          job  marital  education default  balance housing loan  \\\n",
       "0   30   unemployed  married    primary      no     1787      no   no   \n",
       "1   33     services  married  secondary      no     4789     yes  yes   \n",
       "2   35   management   single   tertiary      no     1350     yes   no   \n",
       "3   30   management  married   tertiary      no     1476     yes  yes   \n",
       "4   59  blue-collar  married  secondary      no        0     yes   no   \n",
       "\n",
       "    contact  day month  duration  campaign  pdays  previous poutcome  y  \n",
       "0  cellular   19   oct        79         1     -1         0  unknown  0  \n",
       "1  cellular   11   may       220         1    339         4  failure  0  \n",
       "2  cellular   16   apr       185         1    330         1  failure  0  \n",
       "3   unknown    3   jun       199         4     -1         0  unknown  0  \n",
       "4   unknown    5   may       226         1     -1         0  unknown  0  "
      ]
     },
     "execution_count": 2,
     "metadata": {},
     "output_type": "execute_result"
    }
   ],
   "source": [
    "from sklearn.preprocessing import LabelEncoder\n",
    "le = LabelEncoder()\n",
    "\n",
    "#example\n",
    "bankData['y'] = le.fit_transform(bankData['y'])\n",
    "bankData.head()"
   ]
  },
  {
   "cell_type": "code",
   "execution_count": 3,
   "metadata": {
    "id": "t2mufWRC0kwt"
   },
   "outputs": [
    {
     "data": {
      "text/html": [
       "<div>\n",
       "<style scoped>\n",
       "    .dataframe tbody tr th:only-of-type {\n",
       "        vertical-align: middle;\n",
       "    }\n",
       "\n",
       "    .dataframe tbody tr th {\n",
       "        vertical-align: top;\n",
       "    }\n",
       "\n",
       "    .dataframe thead th {\n",
       "        text-align: right;\n",
       "    }\n",
       "</style>\n",
       "<table border=\"1\" class=\"dataframe\">\n",
       "  <thead>\n",
       "    <tr style=\"text-align: right;\">\n",
       "      <th></th>\n",
       "      <th>age</th>\n",
       "      <th>job</th>\n",
       "      <th>marital</th>\n",
       "      <th>education</th>\n",
       "      <th>default</th>\n",
       "      <th>balance</th>\n",
       "      <th>housing</th>\n",
       "      <th>loan</th>\n",
       "      <th>contact</th>\n",
       "      <th>day</th>\n",
       "      <th>month</th>\n",
       "      <th>duration</th>\n",
       "      <th>campaign</th>\n",
       "      <th>pdays</th>\n",
       "      <th>previous</th>\n",
       "      <th>poutcome</th>\n",
       "      <th>y</th>\n",
       "    </tr>\n",
       "  </thead>\n",
       "  <tbody>\n",
       "    <tr>\n",
       "      <th>0</th>\n",
       "      <td>30</td>\n",
       "      <td>unemployed</td>\n",
       "      <td>married</td>\n",
       "      <td>primary</td>\n",
       "      <td>0</td>\n",
       "      <td>1787</td>\n",
       "      <td>0</td>\n",
       "      <td>0</td>\n",
       "      <td>cellular</td>\n",
       "      <td>19</td>\n",
       "      <td>oct</td>\n",
       "      <td>79</td>\n",
       "      <td>1</td>\n",
       "      <td>-1</td>\n",
       "      <td>0</td>\n",
       "      <td>unknown</td>\n",
       "      <td>0</td>\n",
       "    </tr>\n",
       "    <tr>\n",
       "      <th>1</th>\n",
       "      <td>33</td>\n",
       "      <td>services</td>\n",
       "      <td>married</td>\n",
       "      <td>secondary</td>\n",
       "      <td>0</td>\n",
       "      <td>4789</td>\n",
       "      <td>1</td>\n",
       "      <td>1</td>\n",
       "      <td>cellular</td>\n",
       "      <td>11</td>\n",
       "      <td>may</td>\n",
       "      <td>220</td>\n",
       "      <td>1</td>\n",
       "      <td>339</td>\n",
       "      <td>4</td>\n",
       "      <td>failure</td>\n",
       "      <td>0</td>\n",
       "    </tr>\n",
       "    <tr>\n",
       "      <th>2</th>\n",
       "      <td>35</td>\n",
       "      <td>management</td>\n",
       "      <td>single</td>\n",
       "      <td>tertiary</td>\n",
       "      <td>0</td>\n",
       "      <td>1350</td>\n",
       "      <td>1</td>\n",
       "      <td>0</td>\n",
       "      <td>cellular</td>\n",
       "      <td>16</td>\n",
       "      <td>apr</td>\n",
       "      <td>185</td>\n",
       "      <td>1</td>\n",
       "      <td>330</td>\n",
       "      <td>1</td>\n",
       "      <td>failure</td>\n",
       "      <td>0</td>\n",
       "    </tr>\n",
       "    <tr>\n",
       "      <th>3</th>\n",
       "      <td>30</td>\n",
       "      <td>management</td>\n",
       "      <td>married</td>\n",
       "      <td>tertiary</td>\n",
       "      <td>0</td>\n",
       "      <td>1476</td>\n",
       "      <td>1</td>\n",
       "      <td>1</td>\n",
       "      <td>unknown</td>\n",
       "      <td>3</td>\n",
       "      <td>jun</td>\n",
       "      <td>199</td>\n",
       "      <td>4</td>\n",
       "      <td>-1</td>\n",
       "      <td>0</td>\n",
       "      <td>unknown</td>\n",
       "      <td>0</td>\n",
       "    </tr>\n",
       "    <tr>\n",
       "      <th>4</th>\n",
       "      <td>59</td>\n",
       "      <td>blue-collar</td>\n",
       "      <td>married</td>\n",
       "      <td>secondary</td>\n",
       "      <td>0</td>\n",
       "      <td>0</td>\n",
       "      <td>1</td>\n",
       "      <td>0</td>\n",
       "      <td>unknown</td>\n",
       "      <td>5</td>\n",
       "      <td>may</td>\n",
       "      <td>226</td>\n",
       "      <td>1</td>\n",
       "      <td>-1</td>\n",
       "      <td>0</td>\n",
       "      <td>unknown</td>\n",
       "      <td>0</td>\n",
       "    </tr>\n",
       "  </tbody>\n",
       "</table>\n",
       "</div>"
      ],
      "text/plain": [
       "   age          job  marital  education  default  balance  housing  loan  \\\n",
       "0   30   unemployed  married    primary        0     1787        0     0   \n",
       "1   33     services  married  secondary        0     4789        1     1   \n",
       "2   35   management   single   tertiary        0     1350        1     0   \n",
       "3   30   management  married   tertiary        0     1476        1     1   \n",
       "4   59  blue-collar  married  secondary        0        0        1     0   \n",
       "\n",
       "    contact  day month  duration  campaign  pdays  previous poutcome  y  \n",
       "0  cellular   19   oct        79         1     -1         0  unknown  0  \n",
       "1  cellular   11   may       220         1    339         4  failure  0  \n",
       "2  cellular   16   apr       185         1    330         1  failure  0  \n",
       "3   unknown    3   jun       199         4     -1         0  unknown  0  \n",
       "4   unknown    5   may       226         1     -1         0  unknown  0  "
      ]
     },
     "execution_count": 3,
     "metadata": {},
     "output_type": "execute_result"
    }
   ],
   "source": [
    "#Encode the remaining columns\n",
    "bankData['housing'] = le.fit_transform(bankData['housing'])\n",
    "bankData['default'] = le.fit_transform(bankData['default'])\n",
    "bankData['loan'] = le.fit_transform(bankData['loan'])\n",
    "bankData.head()"
   ]
  },
  {
   "cell_type": "markdown",
   "metadata": {
    "id": "YfDPxSIF435B"
   },
   "source": [
    "#### 2.2 Convert categorical variables into dummy columns\n",
    "\n",
    "(1) Use pd.get_dummies to convert the following categorical variales into dummy columns\n",
    "- job\n",
    "- maritial\n",
    "- education\n",
    "- contact\n",
    "- month\n",
    "- poutcome\n",
    "\n",
    "(2) Drop columns that have been converted"
   ]
  },
  {
   "cell_type": "code",
   "execution_count": 4,
   "metadata": {
    "id": "r34bsIn1435C",
    "scrolled": true
   },
   "outputs": [
    {
     "data": {
      "text/html": [
       "<div>\n",
       "<style scoped>\n",
       "    .dataframe tbody tr th:only-of-type {\n",
       "        vertical-align: middle;\n",
       "    }\n",
       "\n",
       "    .dataframe tbody tr th {\n",
       "        vertical-align: top;\n",
       "    }\n",
       "\n",
       "    .dataframe thead th {\n",
       "        text-align: right;\n",
       "    }\n",
       "</style>\n",
       "<table border=\"1\" class=\"dataframe\">\n",
       "  <thead>\n",
       "    <tr style=\"text-align: right;\">\n",
       "      <th></th>\n",
       "      <th>age</th>\n",
       "      <th>marital</th>\n",
       "      <th>education</th>\n",
       "      <th>default</th>\n",
       "      <th>balance</th>\n",
       "      <th>housing</th>\n",
       "      <th>loan</th>\n",
       "      <th>contact</th>\n",
       "      <th>day</th>\n",
       "      <th>month</th>\n",
       "      <th>...</th>\n",
       "      <th>job_entrepreneur</th>\n",
       "      <th>job_housemaid</th>\n",
       "      <th>job_management</th>\n",
       "      <th>job_retired</th>\n",
       "      <th>job_self-employed</th>\n",
       "      <th>job_services</th>\n",
       "      <th>job_student</th>\n",
       "      <th>job_technician</th>\n",
       "      <th>job_unemployed</th>\n",
       "      <th>job_unknown</th>\n",
       "    </tr>\n",
       "  </thead>\n",
       "  <tbody>\n",
       "    <tr>\n",
       "      <th>0</th>\n",
       "      <td>30</td>\n",
       "      <td>married</td>\n",
       "      <td>primary</td>\n",
       "      <td>0</td>\n",
       "      <td>1787</td>\n",
       "      <td>0</td>\n",
       "      <td>0</td>\n",
       "      <td>cellular</td>\n",
       "      <td>19</td>\n",
       "      <td>oct</td>\n",
       "      <td>...</td>\n",
       "      <td>0</td>\n",
       "      <td>0</td>\n",
       "      <td>0</td>\n",
       "      <td>0</td>\n",
       "      <td>0</td>\n",
       "      <td>0</td>\n",
       "      <td>0</td>\n",
       "      <td>0</td>\n",
       "      <td>1</td>\n",
       "      <td>0</td>\n",
       "    </tr>\n",
       "    <tr>\n",
       "      <th>1</th>\n",
       "      <td>33</td>\n",
       "      <td>married</td>\n",
       "      <td>secondary</td>\n",
       "      <td>0</td>\n",
       "      <td>4789</td>\n",
       "      <td>1</td>\n",
       "      <td>1</td>\n",
       "      <td>cellular</td>\n",
       "      <td>11</td>\n",
       "      <td>may</td>\n",
       "      <td>...</td>\n",
       "      <td>0</td>\n",
       "      <td>0</td>\n",
       "      <td>0</td>\n",
       "      <td>0</td>\n",
       "      <td>0</td>\n",
       "      <td>1</td>\n",
       "      <td>0</td>\n",
       "      <td>0</td>\n",
       "      <td>0</td>\n",
       "      <td>0</td>\n",
       "    </tr>\n",
       "    <tr>\n",
       "      <th>2</th>\n",
       "      <td>35</td>\n",
       "      <td>single</td>\n",
       "      <td>tertiary</td>\n",
       "      <td>0</td>\n",
       "      <td>1350</td>\n",
       "      <td>1</td>\n",
       "      <td>0</td>\n",
       "      <td>cellular</td>\n",
       "      <td>16</td>\n",
       "      <td>apr</td>\n",
       "      <td>...</td>\n",
       "      <td>0</td>\n",
       "      <td>0</td>\n",
       "      <td>1</td>\n",
       "      <td>0</td>\n",
       "      <td>0</td>\n",
       "      <td>0</td>\n",
       "      <td>0</td>\n",
       "      <td>0</td>\n",
       "      <td>0</td>\n",
       "      <td>0</td>\n",
       "    </tr>\n",
       "    <tr>\n",
       "      <th>3</th>\n",
       "      <td>30</td>\n",
       "      <td>married</td>\n",
       "      <td>tertiary</td>\n",
       "      <td>0</td>\n",
       "      <td>1476</td>\n",
       "      <td>1</td>\n",
       "      <td>1</td>\n",
       "      <td>unknown</td>\n",
       "      <td>3</td>\n",
       "      <td>jun</td>\n",
       "      <td>...</td>\n",
       "      <td>0</td>\n",
       "      <td>0</td>\n",
       "      <td>1</td>\n",
       "      <td>0</td>\n",
       "      <td>0</td>\n",
       "      <td>0</td>\n",
       "      <td>0</td>\n",
       "      <td>0</td>\n",
       "      <td>0</td>\n",
       "      <td>0</td>\n",
       "    </tr>\n",
       "    <tr>\n",
       "      <th>4</th>\n",
       "      <td>59</td>\n",
       "      <td>married</td>\n",
       "      <td>secondary</td>\n",
       "      <td>0</td>\n",
       "      <td>0</td>\n",
       "      <td>1</td>\n",
       "      <td>0</td>\n",
       "      <td>unknown</td>\n",
       "      <td>5</td>\n",
       "      <td>may</td>\n",
       "      <td>...</td>\n",
       "      <td>0</td>\n",
       "      <td>0</td>\n",
       "      <td>0</td>\n",
       "      <td>0</td>\n",
       "      <td>0</td>\n",
       "      <td>0</td>\n",
       "      <td>0</td>\n",
       "      <td>0</td>\n",
       "      <td>0</td>\n",
       "      <td>0</td>\n",
       "    </tr>\n",
       "  </tbody>\n",
       "</table>\n",
       "<p>5 rows × 28 columns</p>\n",
       "</div>"
      ],
      "text/plain": [
       "   age  marital  education  default  balance  housing  loan   contact  day  \\\n",
       "0   30  married    primary        0     1787        0     0  cellular   19   \n",
       "1   33  married  secondary        0     4789        1     1  cellular   11   \n",
       "2   35   single   tertiary        0     1350        1     0  cellular   16   \n",
       "3   30  married   tertiary        0     1476        1     1   unknown    3   \n",
       "4   59  married  secondary        0        0        1     0   unknown    5   \n",
       "\n",
       "  month  ...  job_entrepreneur  job_housemaid  job_management  job_retired  \\\n",
       "0   oct  ...                 0              0               0            0   \n",
       "1   may  ...                 0              0               0            0   \n",
       "2   apr  ...                 0              0               1            0   \n",
       "3   jun  ...                 0              0               1            0   \n",
       "4   may  ...                 0              0               0            0   \n",
       "\n",
       "  job_self-employed  job_services  job_student  job_technician  \\\n",
       "0                 0             0            0               0   \n",
       "1                 0             1            0               0   \n",
       "2                 0             0            0               0   \n",
       "3                 0             0            0               0   \n",
       "4                 0             0            0               0   \n",
       "\n",
       "   job_unemployed  job_unknown  \n",
       "0               1            0  \n",
       "1               0            0  \n",
       "2               0            0  \n",
       "3               0            0  \n",
       "4               0            0  \n",
       "\n",
       "[5 rows x 28 columns]"
      ]
     },
     "execution_count": 4,
     "metadata": {},
     "output_type": "execute_result"
    }
   ],
   "source": [
    "#example\n",
    "bankData = pd.concat([bankData,pd.get_dummies(bankData['job'],prefix='job')],axis=1)\n",
    "bankData = bankData.drop(columns=['job'])\n",
    "bankData.head()"
   ]
  },
  {
   "cell_type": "code",
   "execution_count": 5,
   "metadata": {
    "id": "K8tlkopU435D"
   },
   "outputs": [],
   "source": [
    "bankData = pd.concat([bankData,pd.get_dummies(bankData['marital'],prefix='marital')],axis=1)\n",
    "bankData = pd.concat([bankData,pd.get_dummies(bankData['education'],prefix='education')],axis=1)\n",
    "bankData = pd.concat([bankData,pd.get_dummies(bankData['contact'],prefix='contact')],axis=1)\n",
    "bankData = pd.concat([bankData,pd.get_dummies(bankData['month'],prefix='month')],axis=1)\n",
    "bankData = pd.concat([bankData,pd.get_dummies(bankData['poutcome'],prefix='poutcome')],axis=1)\n",
    "\n",
    "bankData = bankData.drop(columns=['marital', 'education', 'contact', 'month', 'poutcome'])"
   ]
  },
  {
   "cell_type": "code",
   "execution_count": 6,
   "metadata": {
    "id": "mmlxgThm435D"
   },
   "outputs": [
    {
     "name": "stdout",
     "output_type": "stream",
     "text": [
      "<class 'pandas.core.frame.DataFrame'>\n",
      "RangeIndex: 4521 entries, 0 to 4520\n",
      "Data columns (total 49 columns):\n",
      " #   Column               Non-Null Count  Dtype\n",
      "---  ------               --------------  -----\n",
      " 0   age                  4521 non-null   int64\n",
      " 1   default              4521 non-null   int32\n",
      " 2   balance              4521 non-null   int64\n",
      " 3   housing              4521 non-null   int32\n",
      " 4   loan                 4521 non-null   int32\n",
      " 5   day                  4521 non-null   int64\n",
      " 6   duration             4521 non-null   int64\n",
      " 7   campaign             4521 non-null   int64\n",
      " 8   pdays                4521 non-null   int64\n",
      " 9   previous             4521 non-null   int64\n",
      " 10  y                    4521 non-null   int32\n",
      " 11  job_admin.           4521 non-null   uint8\n",
      " 12  job_blue-collar      4521 non-null   uint8\n",
      " 13  job_entrepreneur     4521 non-null   uint8\n",
      " 14  job_housemaid        4521 non-null   uint8\n",
      " 15  job_management       4521 non-null   uint8\n",
      " 16  job_retired          4521 non-null   uint8\n",
      " 17  job_self-employed    4521 non-null   uint8\n",
      " 18  job_services         4521 non-null   uint8\n",
      " 19  job_student          4521 non-null   uint8\n",
      " 20  job_technician       4521 non-null   uint8\n",
      " 21  job_unemployed       4521 non-null   uint8\n",
      " 22  job_unknown          4521 non-null   uint8\n",
      " 23  marital_divorced     4521 non-null   uint8\n",
      " 24  marital_married      4521 non-null   uint8\n",
      " 25  marital_single       4521 non-null   uint8\n",
      " 26  education_primary    4521 non-null   uint8\n",
      " 27  education_secondary  4521 non-null   uint8\n",
      " 28  education_tertiary   4521 non-null   uint8\n",
      " 29  education_unknown    4521 non-null   uint8\n",
      " 30  contact_cellular     4521 non-null   uint8\n",
      " 31  contact_telephone    4521 non-null   uint8\n",
      " 32  contact_unknown      4521 non-null   uint8\n",
      " 33  month_apr            4521 non-null   uint8\n",
      " 34  month_aug            4521 non-null   uint8\n",
      " 35  month_dec            4521 non-null   uint8\n",
      " 36  month_feb            4521 non-null   uint8\n",
      " 37  month_jan            4521 non-null   uint8\n",
      " 38  month_jul            4521 non-null   uint8\n",
      " 39  month_jun            4521 non-null   uint8\n",
      " 40  month_mar            4521 non-null   uint8\n",
      " 41  month_may            4521 non-null   uint8\n",
      " 42  month_nov            4521 non-null   uint8\n",
      " 43  month_oct            4521 non-null   uint8\n",
      " 44  month_sep            4521 non-null   uint8\n",
      " 45  poutcome_failure     4521 non-null   uint8\n",
      " 46  poutcome_other       4521 non-null   uint8\n",
      " 47  poutcome_success     4521 non-null   uint8\n",
      " 48  poutcome_unknown     4521 non-null   uint8\n",
      "dtypes: int32(4), int64(7), uint8(38)\n",
      "memory usage: 485.8 KB\n"
     ]
    }
   ],
   "source": [
    "bankData.info()"
   ]
  },
  {
   "cell_type": "markdown",
   "metadata": {
    "id": "RWcNsOaL435E"
   },
   "source": [
    "#### 2.3 Train/Test separation\n",
    "\n",
    "Perform hold-out method\n",
    "- 60% training set\n",
    "- 40% testing set"
   ]
  },
  {
   "cell_type": "code",
   "execution_count": 7,
   "metadata": {
    "id": "slrfMUjM435E"
   },
   "outputs": [
    {
     "name": "stdout",
     "output_type": "stream",
     "text": [
      "col_0  count\n",
      "y           \n",
      "0       2397\n",
      "1        316\n",
      "col_0  count\n",
      "y           \n",
      "0       1603\n",
      "1        205\n"
     ]
    }
   ],
   "source": [
    "bankData_train = bankData.sample(frac = 0.6)\n",
    "bankData_test = bankData.drop(bankData_train.index)\n",
    "print(pd.crosstab(bankData_train['y'],columns = 'count'))\n",
    "print(pd.crosstab(bankData_test['y'],columns = 'count'))"
   ]
  },
  {
   "cell_type": "markdown",
   "metadata": {
    "id": "XoN9XdV9435F"
   },
   "source": [
    "##### X/y separation"
   ]
  },
  {
   "cell_type": "code",
   "execution_count": 8,
   "metadata": {
    "id": "SVlkYjio435F"
   },
   "outputs": [],
   "source": [
    "bankData_train_y = bankData_train['y']\n",
    "bankData_train_X = bankData_train.copy()\n",
    "del bankData_train_X['y']\n",
    "\n",
    "bankData_test_y = bankData_test['y']\n",
    "bankData_test_X = bankData_test.copy()\n",
    "del bankData_test_X['y']"
   ]
  },
  {
   "cell_type": "markdown",
   "metadata": {
    "id": "n388IJ35435F"
   },
   "source": [
    "#### 2.4 Feature Scaling\n",
    "\n",
    "It is always a good practice to scale the features so that all of them can be uniformly evaluated"
   ]
  },
  {
   "cell_type": "code",
   "execution_count": 9,
   "metadata": {
    "id": "-jZabhza435G"
   },
   "outputs": [],
   "source": [
    "from sklearn import preprocessing\n",
    "\n",
    "standard_scaler = preprocessing.StandardScaler()\n",
    "train_X_scaled_s = pd.DataFrame(standard_scaler.fit_transform(bankData_train_X), columns=bankData_train_X.columns)\n",
    "test_X_scaled_s = pd.DataFrame(standard_scaler.fit_transform(bankData_test_X), columns=bankData_train_X.columns)\n",
    "\n",
    "min_max_scaler = preprocessing.MinMaxScaler()\n",
    "train_X_scaled_m = pd.DataFrame(min_max_scaler.fit_transform(bankData_train_X),columns=bankData_train_X.columns)\n",
    "test_X_scaled_m = pd.DataFrame(min_max_scaler.fit_transform(bankData_test_X),columns=bankData_train_X.columns)"
   ]
  },
  {
   "cell_type": "code",
   "execution_count": 10,
   "metadata": {
    "id": "JKrKzVIV435H"
   },
   "outputs": [
    {
     "data": {
      "text/html": [
       "<div>\n",
       "<style scoped>\n",
       "    .dataframe tbody tr th:only-of-type {\n",
       "        vertical-align: middle;\n",
       "    }\n",
       "\n",
       "    .dataframe tbody tr th {\n",
       "        vertical-align: top;\n",
       "    }\n",
       "\n",
       "    .dataframe thead th {\n",
       "        text-align: right;\n",
       "    }\n",
       "</style>\n",
       "<table border=\"1\" class=\"dataframe\">\n",
       "  <thead>\n",
       "    <tr style=\"text-align: right;\">\n",
       "      <th></th>\n",
       "      <th>age</th>\n",
       "      <th>default</th>\n",
       "      <th>balance</th>\n",
       "      <th>housing</th>\n",
       "      <th>loan</th>\n",
       "      <th>day</th>\n",
       "      <th>duration</th>\n",
       "      <th>campaign</th>\n",
       "      <th>pdays</th>\n",
       "      <th>previous</th>\n",
       "      <th>...</th>\n",
       "      <th>month_jun</th>\n",
       "      <th>month_mar</th>\n",
       "      <th>month_may</th>\n",
       "      <th>month_nov</th>\n",
       "      <th>month_oct</th>\n",
       "      <th>month_sep</th>\n",
       "      <th>poutcome_failure</th>\n",
       "      <th>poutcome_other</th>\n",
       "      <th>poutcome_success</th>\n",
       "      <th>poutcome_unknown</th>\n",
       "    </tr>\n",
       "  </thead>\n",
       "  <tbody>\n",
       "    <tr>\n",
       "      <th>0</th>\n",
       "      <td>2.183074</td>\n",
       "      <td>-0.126905</td>\n",
       "      <td>-0.222257</td>\n",
       "      <td>-1.140659</td>\n",
       "      <td>-0.429184</td>\n",
       "      <td>-0.110265</td>\n",
       "      <td>-0.069269</td>\n",
       "      <td>-0.275047</td>\n",
       "      <td>1.396065</td>\n",
       "      <td>0.276151</td>\n",
       "      <td>...</td>\n",
       "      <td>-0.365034</td>\n",
       "      <td>-0.102119</td>\n",
       "      <td>-0.680098</td>\n",
       "      <td>-0.29189</td>\n",
       "      <td>-0.134206</td>\n",
       "      <td>-0.103946</td>\n",
       "      <td>-0.346625</td>\n",
       "      <td>-0.212295</td>\n",
       "      <td>5.700336</td>\n",
       "      <td>-2.132617</td>\n",
       "    </tr>\n",
       "    <tr>\n",
       "      <th>1</th>\n",
       "      <td>1.328869</td>\n",
       "      <td>-0.126905</td>\n",
       "      <td>-0.823807</td>\n",
       "      <td>-1.140659</td>\n",
       "      <td>2.330002</td>\n",
       "      <td>-0.231230</td>\n",
       "      <td>-0.611924</td>\n",
       "      <td>-0.600332</td>\n",
       "      <td>-0.406716</td>\n",
       "      <td>-0.307792</td>\n",
       "      <td>...</td>\n",
       "      <td>-0.365034</td>\n",
       "      <td>-0.102119</td>\n",
       "      <td>1.470376</td>\n",
       "      <td>-0.29189</td>\n",
       "      <td>-0.134206</td>\n",
       "      <td>-0.103946</td>\n",
       "      <td>-0.346625</td>\n",
       "      <td>-0.212295</td>\n",
       "      <td>-0.175428</td>\n",
       "      <td>0.468907</td>\n",
       "    </tr>\n",
       "    <tr>\n",
       "      <th>2</th>\n",
       "      <td>-1.043924</td>\n",
       "      <td>-0.126905</td>\n",
       "      <td>-0.488688</td>\n",
       "      <td>0.876686</td>\n",
       "      <td>-0.429184</td>\n",
       "      <td>-0.473162</td>\n",
       "      <td>1.811440</td>\n",
       "      <td>0.050237</td>\n",
       "      <td>-0.406716</td>\n",
       "      <td>-0.307792</td>\n",
       "      <td>...</td>\n",
       "      <td>-0.365034</td>\n",
       "      <td>-0.102119</td>\n",
       "      <td>1.470376</td>\n",
       "      <td>-0.29189</td>\n",
       "      <td>-0.134206</td>\n",
       "      <td>-0.103946</td>\n",
       "      <td>-0.346625</td>\n",
       "      <td>-0.212295</td>\n",
       "      <td>-0.175428</td>\n",
       "      <td>0.468907</td>\n",
       "    </tr>\n",
       "    <tr>\n",
       "      <th>3</th>\n",
       "      <td>0.854310</td>\n",
       "      <td>-0.126905</td>\n",
       "      <td>-0.234746</td>\n",
       "      <td>-1.140659</td>\n",
       "      <td>-0.429184</td>\n",
       "      <td>-1.077990</td>\n",
       "      <td>1.737104</td>\n",
       "      <td>1.351376</td>\n",
       "      <td>-0.406716</td>\n",
       "      <td>-0.307792</td>\n",
       "      <td>...</td>\n",
       "      <td>-0.365034</td>\n",
       "      <td>-0.102119</td>\n",
       "      <td>-0.680098</td>\n",
       "      <td>-0.29189</td>\n",
       "      <td>-0.134206</td>\n",
       "      <td>-0.103946</td>\n",
       "      <td>-0.346625</td>\n",
       "      <td>-0.212295</td>\n",
       "      <td>-0.175428</td>\n",
       "      <td>0.468907</td>\n",
       "    </tr>\n",
       "    <tr>\n",
       "      <th>4</th>\n",
       "      <td>-0.474454</td>\n",
       "      <td>-0.126905</td>\n",
       "      <td>-0.467873</td>\n",
       "      <td>-1.140659</td>\n",
       "      <td>-0.429184</td>\n",
       "      <td>0.373598</td>\n",
       "      <td>-0.221658</td>\n",
       "      <td>-0.275047</td>\n",
       "      <td>-0.406716</td>\n",
       "      <td>-0.307792</td>\n",
       "      <td>...</td>\n",
       "      <td>-0.365034</td>\n",
       "      <td>-0.102119</td>\n",
       "      <td>-0.680098</td>\n",
       "      <td>-0.29189</td>\n",
       "      <td>-0.134206</td>\n",
       "      <td>-0.103946</td>\n",
       "      <td>-0.346625</td>\n",
       "      <td>-0.212295</td>\n",
       "      <td>-0.175428</td>\n",
       "      <td>0.468907</td>\n",
       "    </tr>\n",
       "  </tbody>\n",
       "</table>\n",
       "<p>5 rows × 48 columns</p>\n",
       "</div>"
      ],
      "text/plain": [
       "        age   default   balance   housing      loan       day  duration  \\\n",
       "0  2.183074 -0.126905 -0.222257 -1.140659 -0.429184 -0.110265 -0.069269   \n",
       "1  1.328869 -0.126905 -0.823807 -1.140659  2.330002 -0.231230 -0.611924   \n",
       "2 -1.043924 -0.126905 -0.488688  0.876686 -0.429184 -0.473162  1.811440   \n",
       "3  0.854310 -0.126905 -0.234746 -1.140659 -0.429184 -1.077990  1.737104   \n",
       "4 -0.474454 -0.126905 -0.467873 -1.140659 -0.429184  0.373598 -0.221658   \n",
       "\n",
       "   campaign     pdays  previous  ...  month_jun  month_mar  month_may  \\\n",
       "0 -0.275047  1.396065  0.276151  ...  -0.365034  -0.102119  -0.680098   \n",
       "1 -0.600332 -0.406716 -0.307792  ...  -0.365034  -0.102119   1.470376   \n",
       "2  0.050237 -0.406716 -0.307792  ...  -0.365034  -0.102119   1.470376   \n",
       "3  1.351376 -0.406716 -0.307792  ...  -0.365034  -0.102119  -0.680098   \n",
       "4 -0.275047 -0.406716 -0.307792  ...  -0.365034  -0.102119  -0.680098   \n",
       "\n",
       "   month_nov  month_oct  month_sep  poutcome_failure  poutcome_other  \\\n",
       "0   -0.29189  -0.134206  -0.103946         -0.346625       -0.212295   \n",
       "1   -0.29189  -0.134206  -0.103946         -0.346625       -0.212295   \n",
       "2   -0.29189  -0.134206  -0.103946         -0.346625       -0.212295   \n",
       "3   -0.29189  -0.134206  -0.103946         -0.346625       -0.212295   \n",
       "4   -0.29189  -0.134206  -0.103946         -0.346625       -0.212295   \n",
       "\n",
       "   poutcome_success  poutcome_unknown  \n",
       "0          5.700336         -2.132617  \n",
       "1         -0.175428          0.468907  \n",
       "2         -0.175428          0.468907  \n",
       "3         -0.175428          0.468907  \n",
       "4         -0.175428          0.468907  \n",
       "\n",
       "[5 rows x 48 columns]"
      ]
     },
     "execution_count": 10,
     "metadata": {},
     "output_type": "execute_result"
    }
   ],
   "source": [
    "train_X_scaled_s.head()"
   ]
  },
  {
   "cell_type": "code",
   "execution_count": 11,
   "metadata": {
    "id": "NhzkklN6435H"
   },
   "outputs": [
    {
     "data": {
      "text/html": [
       "<div>\n",
       "<style scoped>\n",
       "    .dataframe tbody tr th:only-of-type {\n",
       "        vertical-align: middle;\n",
       "    }\n",
       "\n",
       "    .dataframe tbody tr th {\n",
       "        vertical-align: top;\n",
       "    }\n",
       "\n",
       "    .dataframe thead th {\n",
       "        text-align: right;\n",
       "    }\n",
       "</style>\n",
       "<table border=\"1\" class=\"dataframe\">\n",
       "  <thead>\n",
       "    <tr style=\"text-align: right;\">\n",
       "      <th></th>\n",
       "      <th>age</th>\n",
       "      <th>default</th>\n",
       "      <th>balance</th>\n",
       "      <th>housing</th>\n",
       "      <th>loan</th>\n",
       "      <th>day</th>\n",
       "      <th>duration</th>\n",
       "      <th>campaign</th>\n",
       "      <th>pdays</th>\n",
       "      <th>previous</th>\n",
       "      <th>...</th>\n",
       "      <th>month_jun</th>\n",
       "      <th>month_mar</th>\n",
       "      <th>month_may</th>\n",
       "      <th>month_nov</th>\n",
       "      <th>month_oct</th>\n",
       "      <th>month_sep</th>\n",
       "      <th>poutcome_failure</th>\n",
       "      <th>poutcome_other</th>\n",
       "      <th>poutcome_success</th>\n",
       "      <th>poutcome_unknown</th>\n",
       "    </tr>\n",
       "  </thead>\n",
       "  <tbody>\n",
       "    <tr>\n",
       "      <th>0</th>\n",
       "      <td>0.703125</td>\n",
       "      <td>0.0</td>\n",
       "      <td>0.064586</td>\n",
       "      <td>0.0</td>\n",
       "      <td>0.0</td>\n",
       "      <td>0.466667</td>\n",
       "      <td>0.081430</td>\n",
       "      <td>0.032258</td>\n",
       "      <td>0.209862</td>\n",
       "      <td>0.04</td>\n",
       "      <td>...</td>\n",
       "      <td>0.0</td>\n",
       "      <td>0.0</td>\n",
       "      <td>0.0</td>\n",
       "      <td>0.0</td>\n",
       "      <td>0.0</td>\n",
       "      <td>0.0</td>\n",
       "      <td>0.0</td>\n",
       "      <td>0.0</td>\n",
       "      <td>1.0</td>\n",
       "      <td>0.0</td>\n",
       "    </tr>\n",
       "    <tr>\n",
       "      <th>1</th>\n",
       "      <td>0.562500</td>\n",
       "      <td>0.0</td>\n",
       "      <td>0.025291</td>\n",
       "      <td>0.0</td>\n",
       "      <td>1.0</td>\n",
       "      <td>0.433333</td>\n",
       "      <td>0.033102</td>\n",
       "      <td>0.000000</td>\n",
       "      <td>0.000000</td>\n",
       "      <td>0.00</td>\n",
       "      <td>...</td>\n",
       "      <td>0.0</td>\n",
       "      <td>0.0</td>\n",
       "      <td>1.0</td>\n",
       "      <td>0.0</td>\n",
       "      <td>0.0</td>\n",
       "      <td>0.0</td>\n",
       "      <td>0.0</td>\n",
       "      <td>0.0</td>\n",
       "      <td>0.0</td>\n",
       "      <td>1.0</td>\n",
       "    </tr>\n",
       "    <tr>\n",
       "      <th>2</th>\n",
       "      <td>0.171875</td>\n",
       "      <td>0.0</td>\n",
       "      <td>0.047182</td>\n",
       "      <td>1.0</td>\n",
       "      <td>0.0</td>\n",
       "      <td>0.366667</td>\n",
       "      <td>0.248924</td>\n",
       "      <td>0.064516</td>\n",
       "      <td>0.000000</td>\n",
       "      <td>0.00</td>\n",
       "      <td>...</td>\n",
       "      <td>0.0</td>\n",
       "      <td>0.0</td>\n",
       "      <td>1.0</td>\n",
       "      <td>0.0</td>\n",
       "      <td>0.0</td>\n",
       "      <td>0.0</td>\n",
       "      <td>0.0</td>\n",
       "      <td>0.0</td>\n",
       "      <td>0.0</td>\n",
       "      <td>1.0</td>\n",
       "    </tr>\n",
       "    <tr>\n",
       "      <th>3</th>\n",
       "      <td>0.484375</td>\n",
       "      <td>0.0</td>\n",
       "      <td>0.063770</td>\n",
       "      <td>0.0</td>\n",
       "      <td>0.0</td>\n",
       "      <td>0.200000</td>\n",
       "      <td>0.242304</td>\n",
       "      <td>0.193548</td>\n",
       "      <td>0.000000</td>\n",
       "      <td>0.00</td>\n",
       "      <td>...</td>\n",
       "      <td>0.0</td>\n",
       "      <td>0.0</td>\n",
       "      <td>0.0</td>\n",
       "      <td>0.0</td>\n",
       "      <td>0.0</td>\n",
       "      <td>0.0</td>\n",
       "      <td>0.0</td>\n",
       "      <td>0.0</td>\n",
       "      <td>0.0</td>\n",
       "      <td>1.0</td>\n",
       "    </tr>\n",
       "    <tr>\n",
       "      <th>4</th>\n",
       "      <td>0.265625</td>\n",
       "      <td>0.0</td>\n",
       "      <td>0.048542</td>\n",
       "      <td>0.0</td>\n",
       "      <td>0.0</td>\n",
       "      <td>0.600000</td>\n",
       "      <td>0.067858</td>\n",
       "      <td>0.032258</td>\n",
       "      <td>0.000000</td>\n",
       "      <td>0.00</td>\n",
       "      <td>...</td>\n",
       "      <td>0.0</td>\n",
       "      <td>0.0</td>\n",
       "      <td>0.0</td>\n",
       "      <td>0.0</td>\n",
       "      <td>0.0</td>\n",
       "      <td>0.0</td>\n",
       "      <td>0.0</td>\n",
       "      <td>0.0</td>\n",
       "      <td>0.0</td>\n",
       "      <td>1.0</td>\n",
       "    </tr>\n",
       "  </tbody>\n",
       "</table>\n",
       "<p>5 rows × 48 columns</p>\n",
       "</div>"
      ],
      "text/plain": [
       "        age  default   balance  housing  loan       day  duration  campaign  \\\n",
       "0  0.703125      0.0  0.064586      0.0   0.0  0.466667  0.081430  0.032258   \n",
       "1  0.562500      0.0  0.025291      0.0   1.0  0.433333  0.033102  0.000000   \n",
       "2  0.171875      0.0  0.047182      1.0   0.0  0.366667  0.248924  0.064516   \n",
       "3  0.484375      0.0  0.063770      0.0   0.0  0.200000  0.242304  0.193548   \n",
       "4  0.265625      0.0  0.048542      0.0   0.0  0.600000  0.067858  0.032258   \n",
       "\n",
       "      pdays  previous  ...  month_jun  month_mar  month_may  month_nov  \\\n",
       "0  0.209862      0.04  ...        0.0        0.0        0.0        0.0   \n",
       "1  0.000000      0.00  ...        0.0        0.0        1.0        0.0   \n",
       "2  0.000000      0.00  ...        0.0        0.0        1.0        0.0   \n",
       "3  0.000000      0.00  ...        0.0        0.0        0.0        0.0   \n",
       "4  0.000000      0.00  ...        0.0        0.0        0.0        0.0   \n",
       "\n",
       "   month_oct  month_sep  poutcome_failure  poutcome_other  poutcome_success  \\\n",
       "0        0.0        0.0               0.0             0.0               1.0   \n",
       "1        0.0        0.0               0.0             0.0               0.0   \n",
       "2        0.0        0.0               0.0             0.0               0.0   \n",
       "3        0.0        0.0               0.0             0.0               0.0   \n",
       "4        0.0        0.0               0.0             0.0               0.0   \n",
       "\n",
       "   poutcome_unknown  \n",
       "0               0.0  \n",
       "1               1.0  \n",
       "2               1.0  \n",
       "3               1.0  \n",
       "4               1.0  \n",
       "\n",
       "[5 rows x 48 columns]"
      ]
     },
     "execution_count": 11,
     "metadata": {},
     "output_type": "execute_result"
    }
   ],
   "source": [
    "train_X_scaled_m.head()"
   ]
  },
  {
   "cell_type": "markdown",
   "metadata": {
    "id": "9o6Fx1Uo435H"
   },
   "source": [
    "## Artificial Neural Network : sklearn"
   ]
  },
  {
   "cell_type": "markdown",
   "metadata": {
    "id": "ixxCzVyl435I"
   },
   "source": [
    "### Part 3: Train a model"
   ]
  },
  {
   "cell_type": "code",
   "execution_count": 12,
   "metadata": {
    "id": "iH2Xy43j435I"
   },
   "outputs": [
    {
     "data": {
      "text/plain": [
       "MLPClassifier(hidden_layer_sizes=(10, 10, 10), max_iter=1000)"
      ]
     },
     "execution_count": 12,
     "metadata": {},
     "output_type": "execute_result"
    }
   ],
   "source": [
    "from sklearn.neural_network import MLPClassifier  \n",
    "mlp = MLPClassifier(hidden_layer_sizes=(10, 10, 10), max_iter=1000)  \n",
    "mlp.fit(train_X_scaled_s, bankData_train_y) "
   ]
  },
  {
   "cell_type": "markdown",
   "metadata": {
    "id": "nZoBOY0T435I"
   },
   "source": [
    "### Part 4: Model Evaluation\n",
    "\n",
    "Evaluation metrics\n",
    "- confusion metrix\n",
    "- accuracy\n",
    "- precision, recall, f1-score"
   ]
  },
  {
   "cell_type": "code",
   "execution_count": null,
   "metadata": {
    "id": "IsPD4M_x435J"
   },
   "outputs": [],
   "source": []
  },
  {
   "cell_type": "markdown",
   "metadata": {
    "id": "_REPD7xX435J"
   },
   "source": [
    "### Part 5: Model tuning\n",
    "\n",
    "#### Note:\n",
    "\n",
    "After building the classifier, try answering the following questions.\n",
    "\n",
    "1. What is the Accuracy Score?\n",
    "2. If you change your preprosessing method, can you improve the model?\n",
    "3. If you change your parameters setting, can you improve the model?"
   ]
  },
  {
   "cell_type": "code",
   "execution_count": null,
   "metadata": {
    "id": "kRSpwv7M435J"
   },
   "outputs": [],
   "source": []
  },
  {
   "cell_type": "code",
   "execution_count": null,
   "metadata": {
    "id": "A78eyrD9435K"
   },
   "outputs": [],
   "source": []
  },
  {
   "cell_type": "code",
   "execution_count": null,
   "metadata": {
    "id": "X_MPCMWZ435K"
   },
   "outputs": [],
   "source": []
  },
  {
   "cell_type": "code",
   "execution_count": null,
   "metadata": {
    "id": "1uJ0J3RY435K"
   },
   "outputs": [],
   "source": []
  },
  {
   "cell_type": "code",
   "execution_count": null,
   "metadata": {
    "id": "a2rFXoaZ435L"
   },
   "outputs": [],
   "source": []
  },
  {
   "cell_type": "markdown",
   "metadata": {
    "id": "E5_htGlH435L"
   },
   "source": [
    "## Artificial Neural Network : keras"
   ]
  },
  {
   "cell_type": "markdown",
   "metadata": {
    "id": "okmaEg1w435L"
   },
   "source": [
    "Fitting a logistic regression model\n",
    "\n",
    "### Part 3: Train a model"
   ]
  },
  {
   "cell_type": "code",
   "execution_count": 15,
   "metadata": {
    "id": "lGgfgTwA435L"
   },
   "outputs": [],
   "source": [
    "import keras\n",
    "from keras import models\n",
    "from keras import layers"
   ]
  },
  {
   "cell_type": "code",
   "execution_count": 16,
   "metadata": {
    "id": "yHy4lmdH435M"
   },
   "outputs": [
    {
     "data": {
      "text/plain": [
       "(2713, 48)"
      ]
     },
     "execution_count": 16,
     "metadata": {},
     "output_type": "execute_result"
    }
   ],
   "source": [
    "train_X_scaled_s.shape"
   ]
  },
  {
   "cell_type": "code",
   "execution_count": 17,
   "metadata": {
    "id": "DLhWHlWq435M"
   },
   "outputs": [],
   "source": [
    "nn = models.Sequential()\n",
    "nn.add(layers.Dense(48,activation = 'linear',input_shape=(None,48)))\n",
    "nn.add(layers.Dense(1,activation = 'sigmoid'))"
   ]
  },
  {
   "cell_type": "code",
   "execution_count": 18,
   "metadata": {
    "id": "odaxloDm435N"
   },
   "outputs": [],
   "source": [
    "nn.compile(optimizer='sgd', loss='binary_crossentropy', metrics=['accuracy'])"
   ]
  },
  {
   "cell_type": "code",
   "execution_count": 19,
   "metadata": {
    "id": "JIpe8C_3435N"
   },
   "outputs": [
    {
     "name": "stdout",
     "output_type": "stream",
     "text": [
      "Model: \"sequential\"\n",
      "_________________________________________________________________\n",
      " Layer (type)                Output Shape              Param #   \n",
      "=================================================================\n",
      " dense (Dense)               (None, None, 48)          2352      \n",
      "                                                                 \n",
      " dense_1 (Dense)             (None, None, 1)           49        \n",
      "                                                                 \n",
      "=================================================================\n",
      "Total params: 2,401\n",
      "Trainable params: 2,401\n",
      "Non-trainable params: 0\n",
      "_________________________________________________________________\n"
     ]
    }
   ],
   "source": [
    "nn.summary()"
   ]
  },
  {
   "cell_type": "code",
   "execution_count": 21,
   "metadata": {
    "id": "s1T5upu4435O"
   },
   "outputs": [],
   "source": [
    "import numpy as np\n",
    "X_train_add = np.expand_dims(train_X_scaled_s, axis=0)\n",
    "y_train_add = np.expand_dims(bankData_train_y, axis=0)\n",
    "y_train_add = np.expand_dims(y_train_add, axis=0)"
   ]
  },
  {
   "cell_type": "code",
   "execution_count": 22,
   "metadata": {
    "id": "ZqEmIUVT435O"
   },
   "outputs": [
    {
     "data": {
      "text/plain": [
       "(1, 1, 2713)"
      ]
     },
     "execution_count": 22,
     "metadata": {},
     "output_type": "execute_result"
    }
   ],
   "source": [
    "y_train_add.shape"
   ]
  },
  {
   "cell_type": "code",
   "execution_count": 23,
   "metadata": {
    "id": "FMpFwPwG435P"
   },
   "outputs": [
    {
     "name": "stdout",
     "output_type": "stream",
     "text": [
      "Epoch 1/100\n"
     ]
    },
    {
     "ename": "ValueError",
     "evalue": "in user code:\n\n    File \"C:\\Users\\2543b\\anaconda3\\lib\\site-packages\\keras\\engine\\training.py\", line 1021, in train_function  *\n        return step_function(self, iterator)\n    File \"C:\\Users\\2543b\\anaconda3\\lib\\site-packages\\keras\\engine\\training.py\", line 1010, in step_function  **\n        outputs = model.distribute_strategy.run(run_step, args=(data,))\n    File \"C:\\Users\\2543b\\anaconda3\\lib\\site-packages\\keras\\engine\\training.py\", line 1000, in run_step  **\n        outputs = model.train_step(data)\n    File \"C:\\Users\\2543b\\anaconda3\\lib\\site-packages\\keras\\engine\\training.py\", line 860, in train_step\n        loss = self.compute_loss(x, y, y_pred, sample_weight)\n    File \"C:\\Users\\2543b\\anaconda3\\lib\\site-packages\\keras\\engine\\training.py\", line 918, in compute_loss\n        return self.compiled_loss(\n    File \"C:\\Users\\2543b\\anaconda3\\lib\\site-packages\\keras\\engine\\compile_utils.py\", line 201, in __call__\n        loss_value = loss_obj(y_t, y_p, sample_weight=sw)\n    File \"C:\\Users\\2543b\\anaconda3\\lib\\site-packages\\keras\\losses.py\", line 141, in __call__\n        losses = call_fn(y_true, y_pred)\n    File \"C:\\Users\\2543b\\anaconda3\\lib\\site-packages\\keras\\losses.py\", line 245, in call  **\n        return ag_fn(y_true, y_pred, **self._fn_kwargs)\n    File \"C:\\Users\\2543b\\anaconda3\\lib\\site-packages\\keras\\losses.py\", line 1932, in binary_crossentropy\n        backend.binary_crossentropy(y_true, y_pred, from_logits=from_logits),\n    File \"C:\\Users\\2543b\\anaconda3\\lib\\site-packages\\keras\\backend.py\", line 5247, in binary_crossentropy\n        return tf.nn.sigmoid_cross_entropy_with_logits(labels=target, logits=output)\n\n    ValueError: `logits` and `labels` must have the same shape, received ((None, 2713, 1) vs (None, 1, 2713)).\n",
     "output_type": "error",
     "traceback": [
      "\u001b[1;31m---------------------------------------------------------------------------\u001b[0m",
      "\u001b[1;31mValueError\u001b[0m                                Traceback (most recent call last)",
      "\u001b[1;32m~\\AppData\\Local\\Temp/ipykernel_9404/2675481047.py\u001b[0m in \u001b[0;36m<module>\u001b[1;34m\u001b[0m\n\u001b[1;32m----> 1\u001b[1;33m \u001b[0mhistory\u001b[0m \u001b[1;33m=\u001b[0m \u001b[0mnn\u001b[0m\u001b[1;33m.\u001b[0m\u001b[0mfit\u001b[0m\u001b[1;33m(\u001b[0m\u001b[0mX_train_add\u001b[0m\u001b[1;33m,\u001b[0m\u001b[0my_train_add\u001b[0m\u001b[1;33m,\u001b[0m\u001b[0mepochs\u001b[0m\u001b[1;33m=\u001b[0m\u001b[1;36m100\u001b[0m\u001b[1;33m)\u001b[0m\u001b[1;33m\u001b[0m\u001b[1;33m\u001b[0m\u001b[0m\n\u001b[0m",
      "\u001b[1;32m~\\anaconda3\\lib\\site-packages\\keras\\utils\\traceback_utils.py\u001b[0m in \u001b[0;36merror_handler\u001b[1;34m(*args, **kwargs)\u001b[0m\n\u001b[0;32m     65\u001b[0m     \u001b[1;32mexcept\u001b[0m \u001b[0mException\u001b[0m \u001b[1;32mas\u001b[0m \u001b[0me\u001b[0m\u001b[1;33m:\u001b[0m  \u001b[1;31m# pylint: disable=broad-except\u001b[0m\u001b[1;33m\u001b[0m\u001b[1;33m\u001b[0m\u001b[0m\n\u001b[0;32m     66\u001b[0m       \u001b[0mfiltered_tb\u001b[0m \u001b[1;33m=\u001b[0m \u001b[0m_process_traceback_frames\u001b[0m\u001b[1;33m(\u001b[0m\u001b[0me\u001b[0m\u001b[1;33m.\u001b[0m\u001b[0m__traceback__\u001b[0m\u001b[1;33m)\u001b[0m\u001b[1;33m\u001b[0m\u001b[1;33m\u001b[0m\u001b[0m\n\u001b[1;32m---> 67\u001b[1;33m       \u001b[1;32mraise\u001b[0m \u001b[0me\u001b[0m\u001b[1;33m.\u001b[0m\u001b[0mwith_traceback\u001b[0m\u001b[1;33m(\u001b[0m\u001b[0mfiltered_tb\u001b[0m\u001b[1;33m)\u001b[0m \u001b[1;32mfrom\u001b[0m \u001b[1;32mNone\u001b[0m\u001b[1;33m\u001b[0m\u001b[1;33m\u001b[0m\u001b[0m\n\u001b[0m\u001b[0;32m     68\u001b[0m     \u001b[1;32mfinally\u001b[0m\u001b[1;33m:\u001b[0m\u001b[1;33m\u001b[0m\u001b[1;33m\u001b[0m\u001b[0m\n\u001b[0;32m     69\u001b[0m       \u001b[1;32mdel\u001b[0m \u001b[0mfiltered_tb\u001b[0m\u001b[1;33m\u001b[0m\u001b[1;33m\u001b[0m\u001b[0m\n",
      "\u001b[1;32m~\\anaconda3\\lib\\site-packages\\tensorflow\\python\\framework\\func_graph.py\u001b[0m in \u001b[0;36mautograph_handler\u001b[1;34m(*args, **kwargs)\u001b[0m\n\u001b[0;32m   1145\u001b[0m           \u001b[1;32mexcept\u001b[0m \u001b[0mException\u001b[0m \u001b[1;32mas\u001b[0m \u001b[0me\u001b[0m\u001b[1;33m:\u001b[0m  \u001b[1;31m# pylint:disable=broad-except\u001b[0m\u001b[1;33m\u001b[0m\u001b[1;33m\u001b[0m\u001b[0m\n\u001b[0;32m   1146\u001b[0m             \u001b[1;32mif\u001b[0m \u001b[0mhasattr\u001b[0m\u001b[1;33m(\u001b[0m\u001b[0me\u001b[0m\u001b[1;33m,\u001b[0m \u001b[1;34m\"ag_error_metadata\"\u001b[0m\u001b[1;33m)\u001b[0m\u001b[1;33m:\u001b[0m\u001b[1;33m\u001b[0m\u001b[1;33m\u001b[0m\u001b[0m\n\u001b[1;32m-> 1147\u001b[1;33m               \u001b[1;32mraise\u001b[0m \u001b[0me\u001b[0m\u001b[1;33m.\u001b[0m\u001b[0mag_error_metadata\u001b[0m\u001b[1;33m.\u001b[0m\u001b[0mto_exception\u001b[0m\u001b[1;33m(\u001b[0m\u001b[0me\u001b[0m\u001b[1;33m)\u001b[0m\u001b[1;33m\u001b[0m\u001b[1;33m\u001b[0m\u001b[0m\n\u001b[0m\u001b[0;32m   1148\u001b[0m             \u001b[1;32melse\u001b[0m\u001b[1;33m:\u001b[0m\u001b[1;33m\u001b[0m\u001b[1;33m\u001b[0m\u001b[0m\n\u001b[0;32m   1149\u001b[0m               \u001b[1;32mraise\u001b[0m\u001b[1;33m\u001b[0m\u001b[1;33m\u001b[0m\u001b[0m\n",
      "\u001b[1;31mValueError\u001b[0m: in user code:\n\n    File \"C:\\Users\\2543b\\anaconda3\\lib\\site-packages\\keras\\engine\\training.py\", line 1021, in train_function  *\n        return step_function(self, iterator)\n    File \"C:\\Users\\2543b\\anaconda3\\lib\\site-packages\\keras\\engine\\training.py\", line 1010, in step_function  **\n        outputs = model.distribute_strategy.run(run_step, args=(data,))\n    File \"C:\\Users\\2543b\\anaconda3\\lib\\site-packages\\keras\\engine\\training.py\", line 1000, in run_step  **\n        outputs = model.train_step(data)\n    File \"C:\\Users\\2543b\\anaconda3\\lib\\site-packages\\keras\\engine\\training.py\", line 860, in train_step\n        loss = self.compute_loss(x, y, y_pred, sample_weight)\n    File \"C:\\Users\\2543b\\anaconda3\\lib\\site-packages\\keras\\engine\\training.py\", line 918, in compute_loss\n        return self.compiled_loss(\n    File \"C:\\Users\\2543b\\anaconda3\\lib\\site-packages\\keras\\engine\\compile_utils.py\", line 201, in __call__\n        loss_value = loss_obj(y_t, y_p, sample_weight=sw)\n    File \"C:\\Users\\2543b\\anaconda3\\lib\\site-packages\\keras\\losses.py\", line 141, in __call__\n        losses = call_fn(y_true, y_pred)\n    File \"C:\\Users\\2543b\\anaconda3\\lib\\site-packages\\keras\\losses.py\", line 245, in call  **\n        return ag_fn(y_true, y_pred, **self._fn_kwargs)\n    File \"C:\\Users\\2543b\\anaconda3\\lib\\site-packages\\keras\\losses.py\", line 1932, in binary_crossentropy\n        backend.binary_crossentropy(y_true, y_pred, from_logits=from_logits),\n    File \"C:\\Users\\2543b\\anaconda3\\lib\\site-packages\\keras\\backend.py\", line 5247, in binary_crossentropy\n        return tf.nn.sigmoid_cross_entropy_with_logits(labels=target, logits=output)\n\n    ValueError: `logits` and `labels` must have the same shape, received ((None, 2713, 1) vs (None, 1, 2713)).\n"
     ]
    }
   ],
   "source": [
    "history = nn.fit(X_train_add,y_train_add,epochs=100)"
   ]
  },
  {
   "cell_type": "markdown",
   "metadata": {
    "id": "HwufSm3Q435P"
   },
   "source": [
    "### Part 4: Model Evaluation"
   ]
  },
  {
   "cell_type": "code",
   "execution_count": null,
   "metadata": {
    "id": "jt3OHQGr435P"
   },
   "outputs": [],
   "source": [
    "X_test_add = np.expand_dims(test_X_scaled_s, axis=0)\n",
    "y_test_add = np.expand_dims(bankData_test_y, axis=0)\n",
    "y_test_add = np.expand_dims(y_test_add, axis=3)"
   ]
  },
  {
   "cell_type": "code",
   "execution_count": null,
   "metadata": {
    "id": "ij0fx68X435P"
   },
   "outputs": [],
   "source": [
    "test_loss, test_acc = nn.evaluate(X_test_add, y_test_add)\n",
    "print('Test Loss: %s\\nTest Accuracy: %s' % (test_loss,test_acc))"
   ]
  },
  {
   "cell_type": "markdown",
   "metadata": {
    "id": "BeGwm9TY435Q"
   },
   "source": [
    "### Part 5: Model tuning\n",
    "\n",
    "#### Note:\n",
    "\n",
    "After building the classifier, try answering the following questions.\n",
    "\n",
    "1. What is the Accuracy Score?\n",
    "2. If you change your preprosessing method, can you improve the model?\n",
    "3. If you change your parameters setting, can you improve the model?"
   ]
  },
  {
   "cell_type": "code",
   "execution_count": null,
   "metadata": {
    "id": "1XNg6xPt435Q"
   },
   "outputs": [],
   "source": []
  },
  {
   "cell_type": "code",
   "execution_count": null,
   "metadata": {
    "id": "rtveLHNA435R"
   },
   "outputs": [],
   "source": []
  },
  {
   "cell_type": "code",
   "execution_count": null,
   "metadata": {
    "id": "FNZysGcs435R"
   },
   "outputs": [],
   "source": []
  },
  {
   "cell_type": "code",
   "execution_count": null,
   "metadata": {
    "id": "Wy7qcIT8435R"
   },
   "outputs": [],
   "source": []
  },
  {
   "cell_type": "code",
   "execution_count": null,
   "metadata": {
    "id": "hYejBerH435R"
   },
   "outputs": [],
   "source": []
  }
 ],
 "metadata": {
  "colab": {
   "collapsed_sections": [],
   "name": "(Lab) Simple Neuron Network.ipynb",
   "provenance": []
  },
  "kernelspec": {
   "display_name": "Python 3 (ipykernel)",
   "language": "python",
   "name": "python3"
  },
  "language_info": {
   "codemirror_mode": {
    "name": "ipython",
    "version": 3
   },
   "file_extension": ".py",
   "mimetype": "text/x-python",
   "name": "python",
   "nbconvert_exporter": "python",
   "pygments_lexer": "ipython3",
   "version": "3.8.11"
  }
 },
 "nbformat": 4,
 "nbformat_minor": 1
}
